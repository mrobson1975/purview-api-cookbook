{
    "cells": [
        {
            "attachments": {},
            "cell_type": "markdown",
            "metadata": {},
            "source": [
                "#### Bulk Delete\n",
                "This notebook demonstrates an approach to bulk deleting entities, it demonstrates eeleting the entire contents of a collection using a given batch size.  This example also includes code to synthetically create a number of entities to allow testing of different volumes."
            ]
        },
        {
            "attachments": {},
            "cell_type": "markdown",
            "metadata": {},
            "source": [
                "#### Configuration"
            ]
        },
        {
            "cell_type": "code",
            "execution_count": null,
            "metadata": {},
            "outputs": [],
            "source": [
                "import yaml, requests, json\n",
                "\n",
                "# Open the config file to read the client details\n",
                "with open(\"../config/config.yaml\", \"r\") as yamlfile:\n",
                "    config = yaml.load(yamlfile, Loader=yaml.FullLoader)\n",
                "\n",
                "client_id = config[0]['client_id']\n",
                "client_secret = config[0]['client_secret']\n",
                "tenant_id = config[0]['tenant_id']\n",
                "purview_account_name = config[0]['purview_account_name']\n",
                "scope = f\"{config[0]['resource']}/.default\"\n",
                "purview_endpoint = f\"https://{purview_account_name}.purview.azure.com\"\n",
                "authority = f\"https://login.microsoftonline.com/{tenant_id}\"\n",
                "\n",
                "access_token = \"\""
            ]
        },
        {
            "attachments": {},
            "cell_type": "markdown",
            "metadata": {},
            "source": [
                "#### Functions"
            ]
        },
        {
            "cell_type": "code",
            "execution_count": null,
            "metadata": {},
            "outputs": [],
            "source": [
                "# Function to construct header for HTTP requests\n",
                "# Parameters:  None\n",
                "# Returns: Dictionary with header information\n",
                "##\n",
                "def getHeaders():\n",
                "    headers = {\n",
                "        'Authorization': f'Bearer {access_token}',\n",
                "        'Content-Type': 'application/json'\n",
                "    }\n",
                "    return headers;"
            ]
        },
        {
            "cell_type": "code",
            "execution_count": null,
            "metadata": {},
            "outputs": [],
            "source": [
                "# Function to search for all entities in a given Collection.  Returns a searchresult object\n",
                "# Parameters:  \n",
                "#   limit:          Batch size to return (50-1000)\n",
                "#   collection_id:  Collection ID to search\n",
                "# Returns:  Ordered dict object with Search Results sorted by guid (https://learn.microsoft.com/en-us/rest/api/purview/catalogdataplane/discovery/query?tabs=HTTP#searchresult)\n",
                "##\n",
                "def queryCollection(limit, collection_id):\n",
                "\n",
                "    search_uri = f\"{purview_endpoint}/catalog/api/search/query?api-version=2022-03-01-preview\"\n",
                "    payload = json.dumps({\n",
                "        \"keywords\": None,\n",
                "        \"limit\": limit,\n",
                "        \"filter\": {\n",
                "            \"collectionId\": collection_id\n",
                "        }\n",
                "    })\n",
                "\n",
                "    response = json.loads(requests.request(\"POST\", search_uri, data=payload, headers=getHeaders()).content)\n",
                "    return response"
            ]
        },
        {
            "attachments": {},
            "cell_type": "markdown",
            "metadata": {},
            "source": [
                "#### OAuth Login\n",
                "Perform Authentication using the Microsoft Authentication Library and get a bearer token for subsequent API calls"
            ]
        },
        {
            "cell_type": "code",
            "execution_count": null,
            "metadata": {},
            "outputs": [],
            "source": [
                "from msal import ConfidentialClientApplication\n",
                "\n",
                "app = ConfidentialClientApplication(client_id, authority=authority, client_credential=client_secret)\n",
                "result = app.acquire_token_for_client(scopes=scope)\n",
                "\n",
                "access_token = result['access_token']"
            ]
        },
        {
            "attachments": {},
            "cell_type": "markdown",
            "metadata": {},
            "source": [
                "#### Initial Setup\n",
                "(Optional) Create a collection and populate it with some assets"
            ]
        },
        {
            "cell_type": "code",
            "execution_count": null,
            "metadata": {},
            "outputs": [],
            "source": [
                "# Initial setup:  Create a collection and keep a reference to it\n",
                "\n",
                "collection_id = \"bulk-delete-collection\"\n",
                "collection_name = \"Bulk Delete Collection\"\n",
                "\n",
                "# Create a collection for the assets\n",
                "uri = f\"{purview_endpoint}/account/collections/{collection_id}?api-version=2019-11-01-preview\"\n",
                "payload = json.dumps({\n",
                "    \"friendlyName\": collection_name,\n",
                "    \"parentCollection\": {\n",
                "        \"referenceName\": purview_account_name\n",
                "    }\n",
                "})\n",
                "response = json.loads(requests.request(\"PUT\", uri, headers=getHeaders(), data=payload).content)"
            ]
        },
        {
            "cell_type": "code",
            "execution_count": null,
            "metadata": {},
            "outputs": [],
            "source": [
                "num_entities_to_create = 1000         # Define the number of entities to create (creates Azure SQL tables)\n",
                "entities = []                         # Initialise a list to store each entity JSON\n",
                "fqdn_prefix = \"mssql://foo-sqlsrvr.database.windows.net/foo-sqldb/foo-schema/\"\n",
                "\n",
                "# Loop and create the required asset definitions\n",
                "i = 1\n",
                "while i <= num_entities_to_create:\n",
                "\n",
                "    id = str(i).zfill(5)\n",
                "    entity = {\n",
                "      \"typeName\": \"azure_sql_table\",\n",
                "      \"guid\": f\"-{i}\",\n",
                "      \"attributes\": {\n",
                "        \"name\": f\"Table {id}\", \n",
                "        \"qualifiedName\": f\"{fqdn_prefix}/foo-table-{id}\",\n",
                "        \"description\": f\"Bulk created asset Test-Table-{id}\"\n",
                "      }\n",
                "    }\n",
                "    entities.append(entity)\n",
                "    i += 1\n",
                "\n",
                "# Define the (collection) bulk create or update URI and push the JSON payload to it\n",
                "uri = f'{purview_endpoint}/catalog/api/collections/{collection_id}/entity/bulk?api-version=2022-03-01-preview'\n",
                "payload = json.dumps({\n",
                "  \"referredEntities\": {},\n",
                "  \"entities\": entities\n",
                "})\n",
                "response = json.loads(requests.request(\"POST\", uri, headers=getHeaders(), data=payload).content)\n"
            ]
        },
        {
            "attachments": {},
            "cell_type": "markdown",
            "metadata": {},
            "source": [
                "#### Delete the entities in the Collection"
            ]
        },
        {
            "cell_type": "code",
            "execution_count": null,
            "metadata": {},
            "outputs": [],
            "source": [
                "num_entities_for_deletion = 1\n",
                "delete_batch_size = 100     # Do not set this value too high as it will cause potential 414 errors (URI too long)\n",
                "\n",
                "while num_entities_for_deletion > 0:\n",
                "  \n",
                "  entities_for_deletion = queryCollection(delete_batch_size, collection_id)\n",
                "  num_entities_for_deletion = entities_for_deletion['@search.count']\n",
                "  print(f\"{num_entities_for_deletion} entities remaining for deletion\")\n",
                "\n",
                "  delete_uri = f\"{purview_endpoint}/catalog/api/atlas/v2/entity/bulk?\"\n",
                "  for i in entities_for_deletion['value']:\n",
                "    delete_uri = delete_uri + f\"guid={i['id']}&\"\n",
                "  \n",
                "  response = requests.request(\"DELETE\", delete_uri[:-1], headers=getHeaders())\n",
                "  print(response)"
            ]
        },
        {
            "cell_type": "code",
            "execution_count": null,
            "metadata": {},
            "outputs": [],
            "source": [
                "#Delete the collection\n",
                "delete_uri = f\"{purview_endpoint}/collections/{collection_id}?api-version=2019-11-01-preview\"\n",
                "headers = getHeaders()\n",
                "requests.request(\"DELETE\", delete_uri, headers=headers)"
            ]
        }
    ],
    "metadata": {
        "kernelspec": {
            "display_name": "Python 3",
            "language": "python",
            "name": "python3"
        },
        "language_info": {
            "codemirror_mode": {
                "name": "ipython",
                "version": 3
            },
            "file_extension": ".py",
            "mimetype": "text/x-python",
            "name": "python",
            "nbconvert_exporter": "python",
            "pygments_lexer": "ipython3",
            "version": "3.10.11"
        },
        "vscode": {
            "interpreter": {
                "hash": "ebc452c423bdcd6d3b4f01f70d4ddd2ecd029305467ed3f1a966df199e813d34"
            }
        }
    },
    "nbformat": 4,
    "nbformat_minor": 2
}
