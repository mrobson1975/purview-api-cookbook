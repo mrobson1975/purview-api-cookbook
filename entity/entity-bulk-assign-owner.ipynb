{
  "cells": [
    {
      "cell_type": "markdown",
      "source": [
        "**Bulk Assign Owners**\r\n",
        "\r\n",
        "This notebook demonstrates how to assign all the existing assets to an owners (and experts) with one user account (AAD OID). The approach uses the bulk update method and uses an order list of guids to effectively paginate through the search results which can be filtered by fqdn prefix in the queryForNextBatch function."
      ],
      "metadata": {
        "nteract": {
          "transient": {
            "deleting": false
          }
        }
      }
    },
    {
      "cell_type": "code",
      "source": [
        "\r\n",
        "import  requests, json\r\n",
        "\r\n",
        "tenant_id = \"\"\r\n",
        "client_id = \"\"\r\n",
        "client_secret = \"\"\r\n",
        "purview_account_name = \"\"\r\n",
        "owner_oid = \"\" \r\n",
        "\r\n",
        "purview_endpoint = f\"https://{purview_account_name}.purview.azure.com\"\r\n",
        "authority = f\"https://login.microsoftonline.com/{tenant_id}\"\r\n",
        "\r\n",
        "access_token = \"\""
      ],
      "outputs": [
        {
          "output_type": "display_data",
          "data": {
            "application/vnd.livy.statement-meta+json": {
              "spark_pool": "genSpark",
              "session_id": "4",
              "statement_id": 8,
              "state": "finished",
              "livy_statement_state": "available",
              "queued_time": "2023-08-18T15:39:13.011156Z",
              "session_start_time": null,
              "execution_start_time": "2023-08-18T15:39:13.1253897Z",
              "execution_finish_time": "2023-08-18T15:39:13.2699839Z",
              "spark_jobs": null,
              "parent_msg_id": "f719563e-f5f6-471a-9e8d-a8c86929da4e"
            },
            "text/plain": "StatementMeta(genSpark, 4, 8, Finished, Available)"
          },
          "metadata": {}
        }
      ],
      "execution_count": 7,
      "metadata": {
        "jupyter": {
          "source_hidden": false,
          "outputs_hidden": false
        },
        "nteract": {
          "transient": {
            "deleting": false
          }
        }
      }
    },
    {
      "cell_type": "code",
      "source": [
        "from msal import ConfidentialClientApplication\r\n",
        "\r\n",
        "app = ConfidentialClientApplication(client_id, authority=authority, client_credential=client_secret)\r\n",
        "scope = f\"https://purview.azure.net/.default\"\r\n",
        "\r\n",
        "result = app.acquire_token_for_client(scopes=scope)\r\n",
        "access_token = result['access_token']"
      ],
      "outputs": [
        {
          "output_type": "display_data",
          "data": {
            "application/vnd.livy.statement-meta+json": {
              "spark_pool": "genSpark",
              "session_id": "4",
              "statement_id": 9,
              "state": "finished",
              "livy_statement_state": "available",
              "queued_time": "2023-08-18T15:39:13.0926621Z",
              "session_start_time": null,
              "execution_start_time": "2023-08-18T15:39:13.3954706Z",
              "execution_finish_time": "2023-08-18T15:39:14.4264296Z",
              "spark_jobs": null,
              "parent_msg_id": "5cec312c-b481-43d6-95aa-473e6e7853d1"
            },
            "text/plain": "StatementMeta(genSpark, 4, 9, Finished, Available)"
          },
          "metadata": {}
        }
      ],
      "execution_count": 8,
      "metadata": {
        "jupyter": {
          "source_hidden": false,
          "outputs_hidden": false
        },
        "nteract": {
          "transient": {
            "deleting": false
          }
        }
      }
    },
    {
      "cell_type": "code",
      "source": [
        "def getHeaders():\r\n",
        "    headers = {\r\n",
        "        'Authorization': f'Bearer {access_token}',\r\n",
        "        'Content-Type': 'application/json'\r\n",
        "    }\r\n",
        "    return headers;\r\n",
        "    \r\n",
        "def queryForNextBatch(limit, fqdn, guid):\r\n",
        "\r\n",
        "    search_uri = f\"{purview_endpoint}/catalog/api/search/query?api-version=2022-03-01-preview\"\r\n",
        "    payload = json.dumps({\r\n",
        "        \"keywords\": None,\r\n",
        "        \"limit\": limit,\r\n",
        "        \"filter\": {\r\n",
        "            \"and\": [\r\n",
        "                {\r\n",
        "                    \"id\": {\r\n",
        "                        \"operator\": \"gt\",\r\n",
        "                        \"value\": guid\r\n",
        "                    }\r\n",
        "\r\n",
        "                },\r\n",
        "                {\r\n",
        "                    \"attributeName\": \"qualifiedName\",\r\n",
        "                    \"operator\": \"startswith\",\r\n",
        "                    \"attributeValue\": fqdn           \r\n",
        "                }\r\n",
        "            ]\r\n",
        "        },\r\n",
        "        \"offset\": 0,\r\n",
        "        \"limit\": limit,\r\n",
        "        \"orderby\": [{\r\n",
        "            \"id\": \"asc\"\r\n",
        "        }]\r\n",
        "    })\r\n",
        "\r\n",
        "    response = json.loads(requests.request(\"POST\", search_uri, data=payload, headers=getHeaders()).content)\r\n",
        "    return response"
      ],
      "outputs": [
        {
          "output_type": "display_data",
          "data": {
            "application/vnd.livy.statement-meta+json": {
              "spark_pool": "genSpark",
              "session_id": "4",
              "statement_id": 10,
              "state": "finished",
              "livy_statement_state": "available",
              "queued_time": "2023-08-18T15:39:13.1647051Z",
              "session_start_time": null,
              "execution_start_time": "2023-08-18T15:39:14.544022Z",
              "execution_finish_time": "2023-08-18T15:39:14.6936593Z",
              "spark_jobs": null,
              "parent_msg_id": "ea04c37b-0c8e-4efc-a23f-650cbfbe6fba"
            },
            "text/plain": "StatementMeta(genSpark, 4, 10, Finished, Available)"
          },
          "metadata": {}
        }
      ],
      "execution_count": 9,
      "metadata": {
        "jupyter": {
          "source_hidden": false,
          "outputs_hidden": false
        },
        "nteract": {
          "transient": {
            "deleting": false
          }
        }
      }
    },
    {
      "cell_type": "code",
      "source": [
        "import math\r\n",
        "\r\n",
        "uri = f'{purview_endpoint}/catalog/api/atlas/v2/entity/bulk?api-version=2022-03-01-preview'\r\n",
        "#Add a prefix here to restrict the search results to a certain datasource name \r\n",
        "fqdn_prefix = \"https://\"\r\n",
        "batch_size = 100\r\n",
        "\r\n",
        "# Get the first batch (search using the fqdn and using zero guid, effectively starting from the first ordered guid)\r\n",
        "results = queryForNextBatch(batch_size, fqdn_prefix, \"0\")\r\n",
        "\r\n",
        "# Get the total number of results from the search\r\n",
        "total_num_of_entities = int(results.get(\"@search.count\"))\r\n",
        "print(f\"Total number of entities to update: {total_num_of_entities}\")\r\n",
        "\r\n",
        "# Calculate the number of batches needed\r\n",
        "number_of_batches = total_num_of_entities / batch_size\r\n",
        "number_of_batches = math.ceil(number_of_batches)\r\n",
        "\r\n",
        "print(f\"number of batches needed with batch size of {batch_size}: {int(number_of_batches)}\")\r\n",
        "\r\n",
        "# Loop through each batch \r\n",
        "for batch in range(int(number_of_batches)):\r\n",
        "  print(f\"Processing batch {batch+1} of {int(number_of_batches)}\")\r\n",
        "  \r\n",
        "  # Reset the list of guids\r\n",
        "  batch_guids = []\r\n",
        "\r\n",
        "  # Get the list of guids from the current query\r\n",
        "  for guids in results['value']:\r\n",
        "    #to assign both experts and owners change the contacts section to \"contacts\": {Expert\":[{\"id\":\"3b224ebd-aa02-4b46-b8b7-63d6831f1734\",\"info\":\"\"}],\"Owner\":[{\"id\":f\"{owner_oid}\",\"info\":\"ext 2553\"}]}\r\n",
        "    this_guid = {\"typeName\": f\"{guids['entityType']}\",\"guid\": f\"{guids['id']}\",\r\n",
        "                \"attributes\": {\r\n",
        "                    \"name\": f\"{guids['name']}\", \r\n",
        "                    \"qualifiedName\": f\"{guids['qualifiedName']}\"\r\n",
        "                },\r\n",
        "                \"contacts\":{\"Owner\":[{\"id\":f\"{owner_oid}\",\"info\":\"ext 2553\"}]}}\r\n",
        "    batch_guids.append(this_guid)\r\n",
        "\r\n",
        "  # For this guid batch, call the bulk assign API\r\n",
        "  payload = json.dumps({\"referredEntities\": {},\"entities\": batch_guids})\r\n",
        "  response = requests.request(\"POST\", uri, headers=getHeaders(), data=payload)\r\n",
        "  \r\n",
        "  # Any throttling or timeouts will show up in the response so\r\n",
        "  # we can catch exceptions here if response other than 204.\r\n",
        "  # We still have the guids for this batch so could implement some retry logic,\r\n",
        "  # but for now just print the response\r\n",
        "  print(response)\r\n",
        "\r\n",
        "  # Query for the next batch passing in the last guid processed\r\n",
        "  results = queryForNextBatch(batch_size, fqdn_prefix, this_guid['guid'])\r\n",
        "print(\"Done\")"
      ],
      "outputs": [
        {
          "output_type": "display_data",
          "data": {
            "application/vnd.livy.statement-meta+json": {
              "spark_pool": "genSpark",
              "session_id": "4",
              "statement_id": 11,
              "state": "finished",
              "livy_statement_state": "available",
              "queued_time": "2023-08-18T15:39:13.2681165Z",
              "session_start_time": null,
              "execution_start_time": "2023-08-18T15:39:14.81517Z",
              "execution_finish_time": "2023-08-18T15:39:20.0271998Z",
              "spark_jobs": null,
              "parent_msg_id": "d8ba1577-472e-42df-a537-665797e2c50e"
            },
            "text/plain": "StatementMeta(genSpark, 4, 11, Finished, Available)"
          },
          "metadata": {}
        },
        {
          "output_type": "stream",
          "name": "stdout",
          "text": [
            "Total number of entities to update: 75\nnumber of batches needed with batch size of 100: 1\nProcessing batch 1 of 1\n<Response [200]>\nDone\n"
          ]
        }
      ],
      "execution_count": 10,
      "metadata": {
        "jupyter": {
          "source_hidden": false,
          "outputs_hidden": false
        },
        "nteract": {
          "transient": {
            "deleting": false
          }
        }
      }
    }
  ],
  "metadata": {
    "kernelspec": {
      "name": "synapse_pyspark",
      "language": "Python",
      "display_name": "Synapse PySpark"
    },
    "language_info": {
      "name": "python"
    },
    "kernel_info": {
      "name": "synapse_pyspark"
    },
    "description": null,
    "save_output": true,
    "synapse_widget": {
      "version": "0.1",
      "state": {}
    }
  },
  "nbformat": 4,
  "nbformat_minor": 2
}